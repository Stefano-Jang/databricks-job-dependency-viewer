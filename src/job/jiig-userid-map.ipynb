{
 "cells": [
  {
   "cell_type": "code",
   "execution_count": 0,
   "metadata": {
    "application/vnd.databricks.v1+cell": {
     "cellMetadata": {
      "byteLimit": 2048000,
      "rowLimit": 10000
     },
     "inputWidgets": {},
     "nuid": "cdc518f5-7ea8-42bb-974d-b90fc2471267",
     "showTitle": false,
     "tableResultSettingsMap": {},
     "title": ""
    }
   },
   "outputs": [],
   "source": [
    "from databricks.sdk import WorkspaceClient\n",
    "from pyspark.sql import Row\n",
    "from pyspark.sql import functions as F\n",
    "\n",
    "TARGET_TABLE_NAME = dbutils.widgets.get(\"user_id_map_table_name\")\n",
    "print(f\"TARGET_TABLE_NAME: {TARGET_TABLE_NAME}\")\n",
    "\n",
    "if TARGET_TABLE_NAME.count(\".\") != 2:\n",
    "    raise ValueError(\"TARGET_TABLE_NAME should contain two '.'\")\n",
    "\n",
    "CATALOG, SCHEMA, TABLE = TARGET_TABLE_NAME.split(\".\")\n",
    "\n",
    "wc = WorkspaceClient()\n",
    "users = list(wc.users.list(attributes=['id', 'name', 'userName']))\n",
    "\n",
    "rows = []\n",
    "for u in users:\n",
    "    rows.append(Row(\n",
    "        id=u.id,\n",
    "        email=getattr(u, \"user_name\", None),\n",
    "        family_name=getattr(getattr(u, \"name\", None), \"family_name\", None),\n",
    "        given_name=getattr(getattr(u, \"name\", None), \"given_name\", None),\n",
    "    ))\n",
    "\n",
    "df = spark.createDataFrame(rows)\n",
    "\n",
    "spark.sql(f\"USE CATALOG {CATALOG}\")\n",
    "spark.sql(f\"CREATE SCHEMA IF NOT EXISTS {CATALOG}.{SCHEMA}\")\n",
    "\n",
    "table_exists = spark.catalog.tableExists(TARGET_TABLE_NAME)\n",
    "\n",
    "if not table_exists:\n",
    "    (\n",
    "        df.write\n",
    "        .format(\"delta\")\n",
    "        .mode(\"overwrite\")\n",
    "        .clusterBy(\"id\")\n",
    "        .saveAsTable(TARGET_TABLE_NAME)\n",
    "    )\n",
    "    print(f\"Created new table {TARGET_TABLE_NAME} with {df.count()} users.\")\n",
    "else:\n",
    "    existing = spark.table(TARGET_TABLE_NAME).select(\"id\").withColumn(\"id\", F.col(\"id\").cast(df.schema[\"id\"].dataType))\n",
    "    new_df = (\n",
    "        df\n",
    "        .withColumn(\"id\", F.col(\"id\").cast(existing.schema[\"id\"].dataType))\n",
    "        .join(existing, on=\"id\", how=\"left_anti\")\n",
    "    )\n",
    "\n",
    "    new_count = new_df.count()\n",
    "    if new_count > 0:\n",
    "        (\n",
    "            new_df.write\n",
    "            .format(\"delta\")\n",
    "            .mode(\"append\")\n",
    "            .saveAsTable(TARGET_TABLE_NAME)\n",
    "        )\n",
    "        print(f\"Added {new_count} new users.\")\n",
    "    else:\n",
    "        print(\"No new users to add.\")\n"
   ]
  }
 ],
 "metadata": {
  "application/vnd.databricks.v1+notebook": {
   "computePreferences": {
    "hardware": {
     "accelerator": null,
     "gpuPoolId": null,
     "memory": null
    }
   },
   "dashboards": [],
   "environmentMetadata": {
    "base_environment": "",
    "environment_version": "3"
   },
   "inputWidgetPreferences": null,
   "language": "python",
   "notebookMetadata": {
    "pythonIndentUnit": 2
   },
   "notebookName": "jiig-userid-map",
   "widgets": {}
  },
  "language_info": {
   "name": "python"
  }
 },
 "nbformat": 4,
 "nbformat_minor": 0
}
